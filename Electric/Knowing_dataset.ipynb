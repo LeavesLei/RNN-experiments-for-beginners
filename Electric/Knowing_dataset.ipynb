{
 "cells": [
  {
   "cell_type": "markdown",
   "metadata": {},
   "source": [
    "## Testing Dataset"
   ]
  },
  {
   "cell_type": "code",
   "execution_count": 1,
   "metadata": {},
   "outputs": [
    {
     "data": {
      "text/plain": [
       "(8926, 97)"
      ]
     },
     "execution_count": 1,
     "metadata": {},
     "output_type": "execute_result"
    }
   ],
   "source": [
    "import numpy as np\n",
    "train = np.loadtxt('ElectricDevices_TRAIN.csv', delimiter=',')\n",
    "train.shape"
   ]
  },
  {
   "cell_type": "code",
   "execution_count": 2,
   "metadata": {},
   "outputs": [],
   "source": [
    "train_x = train[:, 1:]\n",
    "train_x = np.reshape(train_x, (train_x.shape[0], train_x.shape[1], 1))\n",
    "train_y = train[:, 0] - 1"
   ]
  },
  {
   "cell_type": "code",
   "execution_count": 4,
   "metadata": {},
   "outputs": [
    {
     "data": {
      "text/plain": [
       "7"
      ]
     },
     "execution_count": 4,
     "metadata": {},
     "output_type": "execute_result"
    }
   ],
   "source": [
    "nclasses = len(np.unique(train_y))\n",
    "nclasses"
   ]
  },
  {
   "cell_type": "code",
   "execution_count": 5,
   "metadata": {},
   "outputs": [
    {
     "name": "stderr",
     "output_type": "stream",
     "text": [
      "E:\\anaconda\\lib\\site-packages\\h5py\\__init__.py:36: FutureWarning: Conversion of the second argument of issubdtype from `float` to `np.floating` is deprecated. In future, it will be treated as `np.float64 == np.dtype(float).type`.\n",
      "  from ._conv import register_converters as _register_converters\n",
      "Using TensorFlow backend.\n"
     ]
    }
   ],
   "source": [
    "from keras.utils import np_utils\n",
    "train_y_c = np_utils.to_categorical(train_y, nclasses)  # convert label to one hot version"
   ]
  },
  {
   "cell_type": "code",
   "execution_count": 8,
   "metadata": {},
   "outputs": [
    {
     "data": {
      "text/plain": [
       "array([1., 0., 0., 0., 0., 0., 0.], dtype=float32)"
      ]
     },
     "execution_count": 8,
     "metadata": {},
     "output_type": "execute_result"
    }
   ],
   "source": [
    "train_y_c[0]"
   ]
  },
  {
   "cell_type": "code",
   "execution_count": 9,
   "metadata": {},
   "outputs": [],
   "source": [
    "test = np.loadtxt('ElectricDevices_TEST.csv', delimiter=',')\n",
    "test_x = test[:, 1:]\n",
    "test_x = np.reshape(test_x, (test_x.shape[0], test_x.shape[1], 1))\n",
    "test_y = test[:, 0] - 1\n",
    "test_y_c = np_utils.to_categorical(test_y, nclasses)"
   ]
  },
  {
   "cell_type": "code",
   "execution_count": 10,
   "metadata": {},
   "outputs": [
    {
     "data": {
      "text/plain": [
       "(8926, 96, 1)"
      ]
     },
     "execution_count": 10,
     "metadata": {},
     "output_type": "execute_result"
    }
   ],
   "source": [
    "train_x.shape"
   ]
  },
  {
   "cell_type": "markdown",
   "metadata": {},
   "source": [
    "## RNN Model"
   ]
  },
  {
   "cell_type": "code",
   "execution_count": null,
   "metadata": {},
   "outputs": [
    {
     "name": "stdout",
     "output_type": "stream",
     "text": [
      "Train on 8926 samples, validate on 7711 samples\n",
      "Epoch 1/50\n",
      "8926/8926 [==============================] - 34s 4ms/step - loss: 1.9219 - acc: 0.2604 - val_loss: 1.9042 - val_acc: 0.2163\n",
      "Epoch 2/50\n",
      "8926/8926 [==============================] - 34s 4ms/step - loss: 1.8498 - acc: 0.2608 - val_loss: 1.8442 - val_acc: 0.2245\n",
      "Epoch 3/50\n",
      "8926/8926 [==============================] - 34s 4ms/step - loss: 1.7732 - acc: 0.2601 - val_loss: 1.8123 - val_acc: 0.2219\n",
      "Epoch 4/50\n",
      "8926/8926 [==============================] - 33s 4ms/step - loss: 1.7280 - acc: 0.2579 - val_loss: 1.8026 - val_acc: 0.2238\n",
      "Epoch 5/50\n",
      "8926/8926 [==============================] - 33s 4ms/step - loss: 1.6943 - acc: 0.3638 - val_loss: 1.7942 - val_acc: 0.3500\n",
      "Epoch 6/50\n",
      "8926/8926 [==============================] - 34s 4ms/step - loss: 1.6641 - acc: 0.4022 - val_loss: 1.7909 - val_acc: 0.3514\n",
      "Epoch 7/50\n",
      "8926/8926 [==============================] - 33s 4ms/step - loss: 1.6330 - acc: 0.4071 - val_loss: 1.7782 - val_acc: 0.3544\n",
      "Epoch 8/50\n",
      "8926/8926 [==============================] - 34s 4ms/step - loss: 1.6124 - acc: 0.4084 - val_loss: 1.7710 - val_acc: 0.3570\n",
      "Epoch 9/50\n",
      "8926/8926 [==============================] - 36s 4ms/step - loss: 1.5930 - acc: 0.4135 - val_loss: 1.7594 - val_acc: 0.3658\n",
      "Epoch 10/50\n",
      "1000/8926 [==>...........................] - ETA: 27s - loss: 1.6308 - acc: 0.3850"
     ]
    }
   ],
   "source": [
    "from keras.models import Sequential\n",
    "from keras.layers import Dense, Activation\n",
    "from keras.layers import LSTM, GRU\n",
    "from keras.optimizers import RMSprop, SGD\n",
    "RNN = LSTM  # Use LSTM, you can also use GRU with RNN = GRU\n",
    "neurons = 64\n",
    "drop = 0.0\n",
    "nlayers = 2  # >= 1\n",
    "impl = 2\n",
    "\n",
    "model = Sequential()\n",
    "\n",
    "if nlayers == 1:\n",
    "    model.add(RNN(neurons, input_shape=(train_x.shape[1], 1), implementation=impl, recurrent_dropout=drop))\n",
    "else:\n",
    "    model.add(\n",
    "        RNN(neurons, input_shape=(train_x.shape[1], 1), implementation=impl, recurrent_dropout=drop, return_sequences=True))\n",
    "    for i in range(1, nlayers - 1):\n",
    "        model.add(RNN(neurons, recurrent_dropout=drop, implementation=impl, return_sequences=True))\n",
    "\n",
    "    model.add(RNN(neurons, recurrent_dropout=drop, implementation=impl))\n",
    "\n",
    "model.add(Dense(nclasses))\n",
    "model.add(Activation('softmax'))\n",
    "\n",
    "############################################\n",
    "# Training\n",
    "\n",
    "# optimizer = RMSprop(lr=0.01)\n",
    "optimizer = SGD(lr=0.01, momentum=0.95)\n",
    "model.compile(loss='categorical_crossentropy', optimizer=optimizer, metrics=['accuracy'])\n",
    "\n",
    "epochs = 50\n",
    "batch_size = 1000\n",
    "verbose = 1\n",
    "model.fit(train_x, train_y_c,\n",
    "          batch_size=batch_size,\n",
    "          epochs=epochs,\n",
    "          validation_data=(test_x, test_y_c), verbose=verbose)"
   ]
  },
  {
   "cell_type": "markdown",
   "metadata": {},
   "source": [
    "## Evaluation"
   ]
  },
  {
   "cell_type": "code",
   "execution_count": null,
   "metadata": {},
   "outputs": [],
   "source": [
    "score, acc = model.evaluate(test_x, test_y_c, batch_size=batch_size, verbose=0)\n",
    "\n",
    "print()\n",
    "print('ACC= ', acc)\n",
    "print()\n",
    "test_pred = model.predict_classes(test_x, verbose=0)\n",
    "print('Confusion Matrix')\n",
    "print('-'*20)\n",
    "print(confusion_matrix(test_y, test_pred))\n",
    "print()\n",
    "print('Classification Report')\n",
    "print('-'*40)\n",
    "print(classification_report(test_y, test_pred))\n",
    "print()\n",
    "print(\"Ending:\")"
   ]
  }
 ],
 "metadata": {
  "kernelspec": {
   "display_name": "Python 3",
   "language": "python",
   "name": "python3"
  },
  "language_info": {
   "codemirror_mode": {
    "name": "ipython",
    "version": 3
   },
   "file_extension": ".py",
   "mimetype": "text/x-python",
   "name": "python",
   "nbconvert_exporter": "python",
   "pygments_lexer": "ipython3",
   "version": "3.6.4"
  }
 },
 "nbformat": 4,
 "nbformat_minor": 2
}
