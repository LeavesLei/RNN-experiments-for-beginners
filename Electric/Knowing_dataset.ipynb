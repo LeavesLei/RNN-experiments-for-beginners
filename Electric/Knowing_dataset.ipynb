{
 "cells": [
  {
   "cell_type": "markdown",
   "metadata": {},
   "source": [
    "## Testing Dataset"
   ]
  },
  {
   "cell_type": "code",
   "execution_count": 1,
   "metadata": {},
   "outputs": [
    {
     "data": {
      "text/plain": [
       "(8926, 97)"
      ]
     },
     "execution_count": 1,
     "metadata": {},
     "output_type": "execute_result"
    }
   ],
   "source": [
    "import numpy as np\n",
    "train = np.loadtxt('ElectricDevices_TRAIN.csv', delimiter=',')\n",
    "train.shape"
   ]
  },
  {
   "cell_type": "code",
   "execution_count": 2,
   "metadata": {},
   "outputs": [],
   "source": [
    "train_x = train[:, 1:]\n",
    "train_x = np.reshape(train_x, (train_x.shape[0], train_x.shape[1], 1))\n",
    "train_y = train[:, 0] - 1"
   ]
  },
  {
   "cell_type": "code",
   "execution_count": 4,
   "metadata": {},
   "outputs": [
    {
     "data": {
      "text/plain": [
       "7"
      ]
     },
     "execution_count": 4,
     "metadata": {},
     "output_type": "execute_result"
    }
   ],
   "source": [
    "nclasses = len(np.unique(train_y))\n",
    "nclasses"
   ]
  },
  {
   "cell_type": "code",
   "execution_count": 5,
   "metadata": {},
   "outputs": [
    {
     "name": "stderr",
     "output_type": "stream",
     "text": [
      "E:\\anaconda\\lib\\site-packages\\h5py\\__init__.py:36: FutureWarning: Conversion of the second argument of issubdtype from `float` to `np.floating` is deprecated. In future, it will be treated as `np.float64 == np.dtype(float).type`.\n",
      "  from ._conv import register_converters as _register_converters\n",
      "Using TensorFlow backend.\n"
     ]
    }
   ],
   "source": [
    "from keras.utils import np_utils\n",
    "train_y_c = np_utils.to_categorical(train_y, nclasses)  # convert label to one hot version"
   ]
  },
  {
   "cell_type": "code",
   "execution_count": 8,
   "metadata": {},
   "outputs": [
    {
     "data": {
      "text/plain": [
       "array([1., 0., 0., 0., 0., 0., 0.], dtype=float32)"
      ]
     },
     "execution_count": 8,
     "metadata": {},
     "output_type": "execute_result"
    }
   ],
   "source": [
    "train_y_c[0]"
   ]
  },
  {
   "cell_type": "code",
   "execution_count": 9,
   "metadata": {},
   "outputs": [],
   "source": [
    "test = np.loadtxt('ElectricDevices_TEST.csv', delimiter=',')\n",
    "test_x = test[:, 1:]\n",
    "test_x = np.reshape(test_x, (test_x.shape[0], test_x.shape[1], 1))\n",
    "test_y = test[:, 0] - 1\n",
    "test_y_c = np_utils.to_categorical(test_y, nclasses)"
   ]
  },
  {
   "cell_type": "code",
   "execution_count": 10,
   "metadata": {},
   "outputs": [
    {
     "data": {
      "text/plain": [
       "(8926, 96, 1)"
      ]
     },
     "execution_count": 10,
     "metadata": {},
     "output_type": "execute_result"
    }
   ],
   "source": [
    "train_x.shape"
   ]
  },
  {
   "cell_type": "markdown",
   "metadata": {},
   "source": [
    "## RNN Model"
   ]
  },
  {
   "cell_type": "code",
   "execution_count": 12,
   "metadata": {},
   "outputs": [
    {
     "name": "stdout",
     "output_type": "stream",
     "text": [
      "Train on 8926 samples, validate on 7711 samples\n",
      "Epoch 1/50\n",
      "8926/8926 [==============================] - 34s 4ms/step - loss: 1.9219 - acc: 0.2604 - val_loss: 1.9042 - val_acc: 0.2163\n",
      "Epoch 2/50\n",
      "8926/8926 [==============================] - 34s 4ms/step - loss: 1.8498 - acc: 0.2608 - val_loss: 1.8442 - val_acc: 0.2245\n",
      "Epoch 3/50\n",
      "8926/8926 [==============================] - 34s 4ms/step - loss: 1.7732 - acc: 0.2601 - val_loss: 1.8123 - val_acc: 0.2219\n",
      "Epoch 4/50\n",
      "8926/8926 [==============================] - 33s 4ms/step - loss: 1.7280 - acc: 0.2579 - val_loss: 1.8026 - val_acc: 0.2238\n",
      "Epoch 5/50\n",
      "8926/8926 [==============================] - 33s 4ms/step - loss: 1.6943 - acc: 0.3638 - val_loss: 1.7942 - val_acc: 0.3500\n",
      "Epoch 6/50\n",
      "8926/8926 [==============================] - 34s 4ms/step - loss: 1.6641 - acc: 0.4022 - val_loss: 1.7909 - val_acc: 0.3514\n",
      "Epoch 7/50\n",
      "8926/8926 [==============================] - 33s 4ms/step - loss: 1.6330 - acc: 0.4071 - val_loss: 1.7782 - val_acc: 0.3544\n",
      "Epoch 8/50\n",
      "8926/8926 [==============================] - 34s 4ms/step - loss: 1.6124 - acc: 0.4084 - val_loss: 1.7710 - val_acc: 0.3570\n",
      "Epoch 9/50\n",
      "8926/8926 [==============================] - 36s 4ms/step - loss: 1.5930 - acc: 0.4135 - val_loss: 1.7594 - val_acc: 0.3658\n",
      "Epoch 10/50\n",
      "8926/8926 [==============================] - 38s 4ms/step - loss: 1.5719 - acc: 0.4245 - val_loss: 1.7329 - val_acc: 0.3732\n",
      "Epoch 11/50\n",
      "8926/8926 [==============================] - 39s 4ms/step - loss: 1.5483 - acc: 0.4336 - val_loss: 1.7040 - val_acc: 0.3856\n",
      "Epoch 12/50\n",
      "8926/8926 [==============================] - 38s 4ms/step - loss: 1.5273 - acc: 0.4436 - val_loss: 1.6815 - val_acc: 0.3984\n",
      "Epoch 13/50\n",
      "8926/8926 [==============================] - 39s 4ms/step - loss: 1.5081 - acc: 0.4514 - val_loss: 1.6615 - val_acc: 0.4088\n",
      "Epoch 14/50\n",
      "8926/8926 [==============================] - 42s 5ms/step - loss: 1.4877 - acc: 0.4634 - val_loss: 1.6420 - val_acc: 0.4229\n",
      "Epoch 15/50\n",
      "8926/8926 [==============================] - 39s 4ms/step - loss: 1.4654 - acc: 0.4736 - val_loss: 1.6225 - val_acc: 0.4319\n",
      "Epoch 16/50\n",
      "8926/8926 [==============================] - 43s 5ms/step - loss: 1.4426 - acc: 0.4832 - val_loss: 1.6017 - val_acc: 0.4395\n",
      "Epoch 17/50\n",
      "8926/8926 [==============================] - 39s 4ms/step - loss: 1.4206 - acc: 0.4887 - val_loss: 1.5807 - val_acc: 0.4444\n",
      "Epoch 18/50\n",
      "8926/8926 [==============================] - 38s 4ms/step - loss: 1.3951 - acc: 0.4984 - val_loss: 1.5542 - val_acc: 0.4504\n",
      "Epoch 19/50\n",
      "8926/8926 [==============================] - 38s 4ms/step - loss: 1.3583 - acc: 0.5097 - val_loss: 1.5103 - val_acc: 0.4618\n",
      "Epoch 20/50\n",
      "8926/8926 [==============================] - 42s 5ms/step - loss: 1.3156 - acc: 0.5246 - val_loss: 1.4611 - val_acc: 0.4885\n",
      "Epoch 21/50\n",
      "8926/8926 [==============================] - 40s 5ms/step - loss: 1.2732 - acc: 0.5462 - val_loss: 1.4337 - val_acc: 0.5010\n",
      "Epoch 22/50\n",
      "8926/8926 [==============================] - 41s 5ms/step - loss: 1.2363 - acc: 0.5676 - val_loss: 1.3967 - val_acc: 0.5243\n",
      "Epoch 23/50\n",
      "8926/8926 [==============================] - 43s 5ms/step - loss: 1.2108 - acc: 0.5758 - val_loss: 1.3790 - val_acc: 0.5248\n",
      "Epoch 24/50\n",
      "8926/8926 [==============================] - 41s 5ms/step - loss: 1.1859 - acc: 0.5807 - val_loss: 1.3671 - val_acc: 0.5225\n",
      "Epoch 25/50\n",
      "8926/8926 [==============================] - 41s 5ms/step - loss: 1.1591 - acc: 0.5887 - val_loss: 1.3227 - val_acc: 0.5416\n",
      "Epoch 26/50\n",
      "8926/8926 [==============================] - 40s 4ms/step - loss: 1.1558 - acc: 0.5879 - val_loss: 1.3346 - val_acc: 0.5163\n",
      "Epoch 27/50\n",
      "8926/8926 [==============================] - 41s 5ms/step - loss: 1.1389 - acc: 0.5919 - val_loss: 1.2928 - val_acc: 0.5460\n",
      "Epoch 28/50\n",
      "8926/8926 [==============================] - 42s 5ms/step - loss: 1.1190 - acc: 0.5947 - val_loss: 1.2853 - val_acc: 0.5465\n",
      "Epoch 29/50\n",
      "8926/8926 [==============================] - 39s 4ms/step - loss: 1.1050 - acc: 0.6031 - val_loss: 1.2770 - val_acc: 0.5527\n",
      "Epoch 30/50\n",
      "8926/8926 [==============================] - 39s 4ms/step - loss: 1.0909 - acc: 0.6087 - val_loss: 1.2700 - val_acc: 0.5578\n",
      "Epoch 31/50\n",
      "8926/8926 [==============================] - 40s 4ms/step - loss: 1.0737 - acc: 0.6138 - val_loss: 1.2721 - val_acc: 0.5602\n",
      "Epoch 32/50\n",
      "8926/8926 [==============================] - 42s 5ms/step - loss: 1.0597 - acc: 0.6204 - val_loss: 1.2906 - val_acc: 0.5541\n",
      "Epoch 33/50\n",
      "8926/8926 [==============================] - 42s 5ms/step - loss: 1.0497 - acc: 0.6214 - val_loss: 1.2672 - val_acc: 0.5644\n",
      "Epoch 34/50\n",
      "8926/8926 [==============================] - 39s 4ms/step - loss: 1.0405 - acc: 0.6216 - val_loss: 1.2879 - val_acc: 0.5461\n",
      "Epoch 35/50\n",
      "8926/8926 [==============================] - 42s 5ms/step - loss: 1.0297 - acc: 0.6239 - val_loss: 1.2633 - val_acc: 0.5604\n",
      "Epoch 36/50\n",
      "8926/8926 [==============================] - 41s 5ms/step - loss: 1.0217 - acc: 0.6260 - val_loss: 1.2725 - val_acc: 0.5669\n",
      "Epoch 37/50\n",
      "8926/8926 [==============================] - 39s 4ms/step - loss: 1.0132 - acc: 0.6276 - val_loss: 1.2795 - val_acc: 0.5650\n",
      "Epoch 38/50\n",
      "8926/8926 [==============================] - 39s 4ms/step - loss: 0.9961 - acc: 0.6326 - val_loss: 1.2503 - val_acc: 0.5702\n",
      "Epoch 39/50\n",
      "8926/8926 [==============================] - 39s 4ms/step - loss: 0.9725 - acc: 0.6363 - val_loss: 1.2355 - val_acc: 0.5729\n",
      "Epoch 40/50\n",
      "8926/8926 [==============================] - 38s 4ms/step - loss: 0.9588 - acc: 0.6440 - val_loss: 1.2335 - val_acc: 0.5835\n",
      "Epoch 41/50\n",
      "8926/8926 [==============================] - 44s 5ms/step - loss: 0.9449 - acc: 0.6528 - val_loss: 1.2358 - val_acc: 0.5849\n",
      "Epoch 42/50\n",
      "8926/8926 [==============================] - 40s 5ms/step - loss: 0.9338 - acc: 0.6570 - val_loss: 1.2257 - val_acc: 0.5886\n",
      "Epoch 43/50\n",
      "8926/8926 [==============================] - 38s 4ms/step - loss: 0.9188 - acc: 0.6630 - val_loss: 1.2175 - val_acc: 0.6012\n",
      "Epoch 44/50\n",
      "8926/8926 [==============================] - 39s 4ms/step - loss: 0.9063 - acc: 0.6707 - val_loss: 1.1979 - val_acc: 0.6128\n",
      "Epoch 45/50\n",
      "8926/8926 [==============================] - 36s 4ms/step - loss: 0.8960 - acc: 0.6793 - val_loss: 1.1874 - val_acc: 0.6233\n",
      "Epoch 46/50\n",
      "8926/8926 [==============================] - 36s 4ms/step - loss: 0.8814 - acc: 0.6832 - val_loss: 1.2142 - val_acc: 0.5818\n",
      "Epoch 47/50\n",
      "8926/8926 [==============================] - 35s 4ms/step - loss: 0.9428 - acc: 0.6586 - val_loss: 1.2537 - val_acc: 0.5966\n",
      "Epoch 48/50\n",
      "8926/8926 [==============================] - 39s 4ms/step - loss: 0.9144 - acc: 0.6698 - val_loss: 1.1903 - val_acc: 0.6061\n",
      "Epoch 49/50\n",
      "8926/8926 [==============================] - 39s 4ms/step - loss: 0.8875 - acc: 0.6770 - val_loss: 1.2100 - val_acc: 0.5855\n",
      "Epoch 50/50\n",
      "8926/8926 [==============================] - 36s 4ms/step - loss: 0.8626 - acc: 0.6877 - val_loss: 1.1356 - val_acc: 0.6051\n"
     ]
    },
    {
     "data": {
      "text/plain": [
       "<keras.callbacks.History at 0x26142ac1a90>"
      ]
     },
     "execution_count": 12,
     "metadata": {},
     "output_type": "execute_result"
    }
   ],
   "source": [
    "from keras.models import Sequential\n",
    "from keras.layers import Dense, Activation\n",
    "from keras.layers import LSTM, GRU\n",
    "from keras.optimizers import RMSprop, SGD\n",
    "RNN = LSTM  # Use LSTM, you can also use GRU with RNN = GRU\n",
    "neurons = 64\n",
    "drop = 0.0\n",
    "nlayers = 2  # >= 1\n",
    "impl = 2\n",
    "\n",
    "model = Sequential()\n",
    "\n",
    "if nlayers == 1:\n",
    "    model.add(RNN(neurons, input_shape=(train_x.shape[1], 1), implementation=impl, recurrent_dropout=drop))\n",
    "else:\n",
    "    model.add(\n",
    "        RNN(neurons, input_shape=(train_x.shape[1], 1), implementation=impl, recurrent_dropout=drop, return_sequences=True))\n",
    "    for i in range(1, nlayers - 1):\n",
    "        model.add(RNN(neurons, recurrent_dropout=drop, implementation=impl, return_sequences=True))\n",
    "\n",
    "    model.add(RNN(neurons, recurrent_dropout=drop, implementation=impl))\n",
    "\n",
    "model.add(Dense(nclasses))\n",
    "model.add(Activation('softmax'))\n",
    "\n",
    "############################################\n",
    "# Training\n",
    "\n",
    "# optimizer = RMSprop(lr=0.01)\n",
    "optimizer = SGD(lr=0.01, momentum=0.95)\n",
    "model.compile(loss='categorical_crossentropy', optimizer=optimizer, metrics=['accuracy'])\n",
    "\n",
    "epochs = 50\n",
    "batch_size = 1000\n",
    "verbose = 1\n",
    "model.fit(train_x, train_y_c,\n",
    "          batch_size=batch_size,\n",
    "          epochs=epochs,\n",
    "          validation_data=(test_x, test_y_c), verbose=verbose)"
   ]
  },
  {
   "cell_type": "markdown",
   "metadata": {},
   "source": [
    "## Evaluation"
   ]
  },
  {
   "cell_type": "code",
   "execution_count": 15,
   "metadata": {},
   "outputs": [
    {
     "name": "stdout",
     "output_type": "stream",
     "text": [
      "\n",
      "ACC=  0.6051095798544005\n",
      "\n",
      "Confusion Matrix\n",
      "--------------------\n",
      "[[ 262  145   21  156   67   13    3]\n",
      " [   1 1894    1   18   37    0    5]\n",
      " [  15    4  503   29   24   21  159]\n",
      " [  96    0  132  769  115   16   37]\n",
      " [  88  497   37   84 1070   13   80]\n",
      " [ 394    0   81  145   32   84    7]\n",
      " [  24   25    1   55  363    4   84]]\n",
      "\n",
      "Classification Report\n",
      "----------------------------------------\n",
      "             precision    recall  f1-score   support\n",
      "\n",
      "        0.0       0.30      0.39      0.34       667\n",
      "        1.0       0.74      0.97      0.84      1956\n",
      "        2.0       0.65      0.67      0.66       755\n",
      "        3.0       0.61      0.66      0.64      1165\n",
      "        4.0       0.63      0.57      0.60      1869\n",
      "        5.0       0.56      0.11      0.19       743\n",
      "        6.0       0.22      0.15      0.18       556\n",
      "\n",
      "avg / total       0.59      0.61      0.58      7711\n",
      "\n",
      "\n",
      "Ending\n"
     ]
    }
   ],
   "source": [
    "score, acc = model.evaluate(test_x, test_y_c, batch_size=batch_size, verbose=0)\n",
    "\n",
    "from sklearn.metrics import confusion_matrix, classification_report\n",
    "\n",
    "print()\n",
    "print('ACC= ', acc)\n",
    "print()\n",
    "test_pred = model.predict_classes(test_x, verbose=0)\n",
    "print('Confusion Matrix')\n",
    "print('-'*20)\n",
    "print(confusion_matrix(test_y, test_pred))\n",
    "print()\n",
    "print('Classification Report')\n",
    "print('-'*40)\n",
    "print(classification_report(test_y, test_pred))\n",
    "print()\n",
    "print(\"Ending\")"
   ]
  }
 ],
 "metadata": {
  "kernelspec": {
   "display_name": "Python 3",
   "language": "python",
   "name": "python3"
  },
  "language_info": {
   "codemirror_mode": {
    "name": "ipython",
    "version": 3
   },
   "file_extension": ".py",
   "mimetype": "text/x-python",
   "name": "python",
   "nbconvert_exporter": "python",
   "pygments_lexer": "ipython3",
   "version": "3.6.4"
  }
 },
 "nbformat": 4,
 "nbformat_minor": 2
}
